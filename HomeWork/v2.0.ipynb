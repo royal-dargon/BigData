{
 "cells": [
  {
   "cell_type": "markdown",
   "metadata": {},
   "source": [
    "# 大数据期末作业\n",
    "> 李劲哲\n",
    "> 2020213697"
   ]
  },
  {
   "cell_type": "markdown",
   "metadata": {},
   "source": [
    "## 目录\n",
    "* 数据介绍\n",
    "* 实验思路\n",
    "* 实验代码\n",
    "* 实验总结"
   ]
  },
  {
   "cell_type": "markdown",
   "metadata": {},
   "source": [
    "## 数据介绍\n",
    "* 本实验的数据集是steam上的游戏评论，主要包括的信息为游戏id，游戏名称，游戏评论，游戏评分，游戏推荐\n",
    "* 原始数据集的大小约为2个G，实际使用的不包括游戏评论，所以在实验开始的时候，便对数据集进行了一定的处理，将数据集复制了三遍，最后数据的条数达到两千万条。"
   ]
  },
  {
   "cell_type": "markdown",
   "metadata": {},
   "source": [
    "## 实验思路\n",
    "* 本实验是从读取数据开始，一直到每个数据的分析，共分为了九个任务，对每个任务在不同的核数下的运行时间进行记录，最后汇总到一张图上进行呈现\n",
    "* 本实验测试的核数为1，2，4， 8， 16"
   ]
  },
  {
   "cell_type": "markdown",
   "metadata": {},
   "source": [
    "## 实验代码"
   ]
  },
  {
   "cell_type": "code",
   "execution_count": 1,
   "metadata": {},
   "outputs": [],
   "source": [
    "from __future__ import division\n",
    "from pyspark import SparkConf, SparkContext\n",
    "from pyspark.sql import SparkSession\n",
    "from pyspark.sql import functions as F\n",
    "import re\n",
    "import pandas as pd\n",
    "import matplotlib.pyplot as plt\n",
    "from pyspark.sql.functions import isnull\n",
    "import datetime\n",
    "import numpy as np"
   ]
  },
  {
   "cell_type": "markdown",
   "metadata": {},
   "source": [
    "### 这是读取文件的任务"
   ]
  },
  {
   "cell_type": "code",
   "execution_count": 2,
   "metadata": {},
   "outputs": [],
   "source": [
    "def get_data():\n",
    "    contents = spark.read.csv('data*.csv', header=True)\n",
    "    contents.count()\n",
    "    return contents"
   ]
  },
  {
   "cell_type": "markdown",
   "metadata": {},
   "source": [
    "### 这是对每个游戏的评论数进行的统计"
   ]
  },
  {
   "cell_type": "code",
   "execution_count": 3,
   "metadata": {},
   "outputs": [],
   "source": [
    "def game_review(df):\n",
    "    game_counts = df.groupBy('app_name').agg(F.count('review_text'))\n",
    "    gc = game_counts.collect()\n",
    "    return gc"
   ]
  },
  {
   "cell_type": "markdown",
   "metadata": {},
   "source": [
    "### 这是对每个游戏的得分的一个统计，得分处主要是-1， 1"
   ]
  },
  {
   "cell_type": "code",
   "execution_count": 4,
   "metadata": {},
   "outputs": [],
   "source": [
    "def game_score(df):\n",
    "    scores = df.groupBy('app_name').agg(F.sum('review_score'))\n",
    "    s = scores.collect()\n",
    "    return s"
   ]
  },
  {
   "cell_type": "markdown",
   "metadata": {},
   "source": [
    "### 这是对每个游戏的给出1得分的统计"
   ]
  },
  {
   "cell_type": "code",
   "execution_count": 5,
   "metadata": {},
   "outputs": [],
   "source": [
    "def game_score_pos(df):\n",
    "    pos_score = df.select('app_name', 'review_score').filter(df['review_score'] == 1).groupBy('app_name').agg(F.count('review_score'))\n",
    "    ps = pos_score.collect()\n",
    "    return ps"
   ]
  },
  {
   "cell_type": "markdown",
   "metadata": {},
   "source": [
    "### 这是对每个游戏-1得分的统计"
   ]
  },
  {
   "cell_type": "code",
   "execution_count": 6,
   "metadata": {},
   "outputs": [],
   "source": [
    "def game_score_neg(df):\n",
    "    neg_score = df.select('app_name', 'review_score').filter(df['review_score'] == -1).groupBy('app_name').agg(F.count('review_score'))\n",
    "    ns = neg_score.collect()\n",
    "    return ns"
   ]
  },
  {
   "cell_type": "markdown",
   "metadata": {},
   "source": [
    "### 这个是对每个游戏是否值得推荐信息的统计，主要分为了0与1，统计愿意推荐的人数"
   ]
  },
  {
   "cell_type": "code",
   "execution_count": 7,
   "metadata": {},
   "outputs": [],
   "source": [
    "def game_vote_pos(df):\n",
    "    pos_vote = df.select('app_name', 'review_votes').filter(df['review_votes'] == 1).groupBy('app_name').agg(F.count('review_votes'))\n",
    "    pv = pos_vote.collect()\n",
    "    return pv"
   ]
  },
  {
   "cell_type": "markdown",
   "metadata": {},
   "source": [
    "### 这个是对不推荐的人数统计"
   ]
  },
  {
   "cell_type": "code",
   "execution_count": 8,
   "metadata": {},
   "outputs": [],
   "source": [
    "def game_vote_neg(df):\n",
    "    neg_vote = df.select('app_name', 'review_votes').filter(df['review_votes'] == 0).groupBy('app_name').agg(F.count('review_votes'))\n",
    "    nv = neg_vote.collect()\n",
    "    return nv"
   ]
  },
  {
   "cell_type": "markdown",
   "metadata": {},
   "source": [
    "### 这个是对平均推荐度的一个统计，值得注意的对进来的数据先进行了处理，也就是这个游戏的评价人数不能太少"
   ]
  },
  {
   "cell_type": "code",
   "execution_count": 9,
   "metadata": {},
   "outputs": [],
   "source": [
    "def game_avg_vote(df):\n",
    "    avg_vote = contents.select('app_name', 'review_votes').groupBy('app_name').agg(F.avg('review_votes'))\\\n",
    "                                                    .orderBy('avg(review_votes)', ascending=False)\n",
    "    av = avg_vote.collect()\n",
    "    return av"
   ]
  },
  {
   "cell_type": "markdown",
   "metadata": {},
   "source": [
    "### 这个是对数据进行一个处理，希望统计出推荐数大于500000的游戏"
   ]
  },
  {
   "cell_type": "code",
   "execution_count": 10,
   "metadata": {},
   "outputs": [],
   "source": [
    "def act_info(df):\n",
    "    better_info = df.groupBy('app_name').agg(F.count('review_votes'))\n",
    "    better_info_new = better_info.select('app_name', 'count(review_votes)').filter(better_info['count(review_votes)']  >= 500000).collect()\n",
    "    return better_info_new"
   ]
  },
  {
   "cell_type": "markdown",
   "metadata": {},
   "source": [
    "### 这个是第一个画图函数，主要表示的是一个对上文每个游戏的评论数的折线图的统计, 也可以用于对每个游戏的得分进行绘制"
   ]
  },
  {
   "cell_type": "code",
   "execution_count": 11,
   "metadata": {},
   "outputs": [],
   "source": [
    "def pic_one(gc):\n",
    "    game_index = [k + 1 for k in range(len(gc))]\n",
    "    review_count = [int(rc[1]) for rc in gc]\n",
    "    plt.figure(figsize=(10, 5))\n",
    "    plt.plot(game_index, review_count, 'b-', label='review_count')\n",
    "    plt.show()"
   ]
  },
  {
   "cell_type": "markdown",
   "metadata": {},
   "source": [
    "### 这个是第二个画图函数，主要表现的是对游戏的得分或者是推荐度的的两种类别进行统计，这里都是只取五十个游戏展示"
   ]
  },
  {
   "cell_type": "code",
   "execution_count": 12,
   "metadata": {},
   "outputs": [],
   "source": [
    "def pic_two(pos, neg):\n",
    "    labels = []\n",
    "    pos_nums = []\n",
    "    neg_nums = []\n",
    "    counts = 0\n",
    "    category_names = ['positive', 'negtive']\n",
    "    for i in range(2000):\n",
    "        if pos[i][1] > 500 or neg[i][1] > 500:\n",
    "            continue\n",
    "        labels.append(pos[i][0])\n",
    "        pos_nums.append(pos[i][1])\n",
    "        neg_nums.append(neg[i][1])\n",
    "        counts += 1\n",
    "        if counts >= 50:\n",
    "            break\n",
    "    x = np.arange(len(labels))\n",
    "    width = 0.35\n",
    "    plt.figure(figsize=(25, 25))\n",
    "    fig, ax = plt.subplots()\n",
    "    rects1 = ax.bar(x - width/2, pos_nums, width, label='pos')\n",
    "    rects2 = ax.bar(x + width/2, neg_nums, width, label='neg')\n",
    "    ax.set_ylabel('counts')\n",
    "    ax.set_title('counts pos and neg')\n",
    "    ax.set_xticks(x, labels)\n",
    "    ax.legend()\n",
    "\n",
    "    fig.tight_layout()\n",
    "\n",
    "    plt.show()"
   ]
  },
  {
   "cell_type": "markdown",
   "metadata": {},
   "source": [
    "### 这个是第三种图像的函数，主要表现是进行一个折现图统计得分"
   ]
  },
  {
   "cell_type": "code",
   "execution_count": 13,
   "metadata": {},
   "outputs": [],
   "source": [
    "def pic_three(df):\n",
    "    game_index = [k + 1 for k in range(len(df))]\n",
    "    review_count = [int(rc[1]) for rc in df]\n",
    "    plt.figure(figsize=(10, 5))\n",
    "    plt.plot(game_index, review_count, 'g-', label='test1')\n",
    "    plt.show()"
   ]
  },
  {
   "cell_type": "markdown",
   "metadata": {},
   "source": [
    "### 这个是第四种图像，主要是对1，2，4，8，16核任务进行处理的时间进行统计的折线图"
   ]
  },
  {
   "cell_type": "code",
   "execution_count": 14,
   "metadata": {},
   "outputs": [],
   "source": [
    "def pic_four(t):\n",
    "    plt.figure(figsize=(10, 5))\n",
    "    time_index = [1, 2, 3, 4, 5]\n",
    "    plt.plot(time_index, t[0], 'g-', label='test1')\n",
    "    plt.plot(time_index, t[1], 'b-', label='test2')\n",
    "    plt.plot(time_index, t[2], 'r-', label='test3')\n",
    "    plt.plot(time_index, t[3], 'y-', label='test4')\n",
    "    plt.plot(time_index, t[4], 'c-', label='test5')\n",
    "    plt.plot(time_index, t[5], 'm-', label='test6')\n",
    "    plt.plot(time_index, t[6], 'k-', label='test7')\n",
    "    plt.plot(time_index, t[7], 'w-', label='test8')\n",
    "    plt.plot(time_index, t[8], 'g-', label='test9')\n",
    "    plt.show()"
   ]
  },
  {
   "cell_type": "markdown",
   "metadata": {},
   "source": [
    "### 这是主函数需要对整个内核数进行调度"
   ]
  },
  {
   "cell_type": "code",
   "execution_count": null,
   "metadata": {
    "scrolled": false
   },
   "outputs": [
    {
     "name": "stdout",
     "output_type": "stream",
     "text": [
      "1\n"
     ]
    }
   ],
   "source": [
    "# 这里表示了，我需要运行的内核数\n",
    "cores = [1, 2, 4, 8, 16]\n",
    "# 这里将会对每个任务的时间进行统计\n",
    "# 任务1：读取文件\n",
    "# 任务2：对每个作业的评论数进行统计\n",
    "# 任务3：对每个游戏的总计得分进行统计\n",
    "# 任务4：对得分是1的个数进行统计\n",
    "# 任务5：对得分是-1的个数进行统计\n",
    "# 任务6：对愿意推荐的进行统计\n",
    "# 任务7：对不愿意推荐的进行统计\n",
    "# 任务8：选出推荐有效个数大于2000的游戏\n",
    "# 任务9：计算这些结果的平均推荐度\n",
    "test1 = []\n",
    "test2 = []\n",
    "test3 = []\n",
    "test4 = []\n",
    "test5 = []\n",
    "test6, test7 = [], []\n",
    "test8, test9 = [], []\n",
    "test = []\n",
    "for i in cores:\n",
    "    print(i)\n",
    "    spark = SparkSession.builder.config(\"spark.default.parallelism\", \"1280\") \\\n",
    "                        .config('spark.driver.memory', '10G') \\\n",
    "                        .config('spark.rpc.message.maxSize', '2000') \\\n",
    "                        .appName(\"spark sql\") \\\n",
    "                        .master(\"local[%d]\" % i) \\\n",
    "                        .getOrCreate()\n",
    "\n",
    "    # 任务1\n",
    "    start1 = datetime.datetime.now()\n",
    "    contents = get_data()\n",
    "    end1 = datetime.datetime.now()\n",
    "    test1.append((end1 - start1).seconds)\n",
    "    # 任务2\n",
    "    start2 = datetime.datetime.now()\n",
    "    gc = game_review(contents)\n",
    "    end2 = datetime.datetime.now()\n",
    "    test2.append((end2 - start2).seconds)\n",
    "    # 任务3\n",
    "    start3 = datetime.datetime.now()\n",
    "    s = game_score(contents)\n",
    "    end3 = datetime.datetime.now()\n",
    "    test3.append((end3 - start3).seconds)\n",
    "    # 任务4\n",
    "    start4 = datetime.datetime.now()\n",
    "    ps = game_score_pos(contents)\n",
    "    end4 = datetime.datetime.now()\n",
    "    test4.append((end4 - start4).seconds)\n",
    "    # 任务5\n",
    "    start5 = datetime.datetime.now()\n",
    "    ns = game_score_neg(contents)\n",
    "    end5 = datetime.datetime.now()\n",
    "    test5.append((end5 - start5).seconds)\n",
    "    # 任务6\n",
    "    start6 = datetime.datetime.now()\n",
    "    pv = game_vote_pos(contents)\n",
    "    end6 = datetime.datetime.now()\n",
    "    test6.append((end6 - start6).seconds)\n",
    "    # 任务7\n",
    "    start7 = datetime.datetime.now()\n",
    "    nv = game_vote_neg(contents)\n",
    "    end7 = datetime.datetime.now()\n",
    "    test7.append((end7 - start7).seconds)\n",
    "    # 任务8\n",
    "    start8 = datetime.datetime.now()\n",
    "    bi = act_info(contents)\n",
    "    end8 = datetime.datetime.now()\n",
    "    test8.append((end8 - start8).seconds)\n",
    "    # 任务9\n",
    "    start9 = datetime.datetime.now()\n",
    "    av = game_avg_vote(bi)\n",
    "    end9 = datetime.datetime.now()\n",
    "    test9.append((end9 - start9).seconds)\n",
    "    # 关闭本阶段的内核。进行下一阶段\n",
    "    spark.stop()\n",
    "test.append(test1)\n",
    "test.append(test2)\n",
    "test.append(test3)\n",
    "test.append(test4)\n",
    "test.append(test5)\n",
    "test.append(test6)\n",
    "test.append(test7)\n",
    "test.append(test8)\n",
    "test.append(test9)\n",
    "pic_four(test)\n"
   ]
  },
  {
   "cell_type": "markdown",
   "metadata": {},
   "source": [
    "## 实验总结\n",
    "* 第一张图分析了每个游戏所有的评论数量\n",
    "![](p1.png)"
   ]
  },
  {
   "cell_type": "markdown",
   "metadata": {},
   "source": [
    "* 第二张图分析了每个游戏的具体总得分数\n",
    "![](p2.png)"
   ]
  },
  {
   "cell_type": "markdown",
   "metadata": {},
   "source": [
    "* 第三张图分析了五十个游戏的正面评分与负面评分的个数\n",
    "![](p3.png)"
   ]
  },
  {
   "cell_type": "code",
   "execution_count": null,
   "metadata": {},
   "outputs": [],
   "source": []
  }
 ],
 "metadata": {
  "kernelspec": {
   "display_name": "Python 3",
   "language": "python",
   "name": "python3"
  },
  "language_info": {
   "codemirror_mode": {
    "name": "ipython",
    "version": 3
   },
   "file_extension": ".py",
   "mimetype": "text/x-python",
   "name": "python",
   "nbconvert_exporter": "python",
   "pygments_lexer": "ipython3",
   "version": "3.6.2"
  }
 },
 "nbformat": 4,
 "nbformat_minor": 2
}
