{
 "cells": [
  {
   "cell_type": "code",
   "execution_count": 2,
   "metadata": {},
   "outputs": [],
   "source": [
    "from __future__ import division\n",
    "from pyspark import SparkConf, SparkContext\n",
    "import re"
   ]
  },
  {
   "cell_type": "markdown",
   "metadata": {},
   "source": [
    "* 设置应用的名称，设置需要去连接的url，最后是设置了一个配置属性，这里应该是key-value的形式"
   ]
  },
  {
   "cell_type": "code",
   "execution_count": 3,
   "metadata": {},
   "outputs": [],
   "source": [
    "try:\n",
    "    sc = SparkContext(conf=SparkConf().setAppName(\"MyApp\").setMaster(\"local\").set(\"spark.cores.max\", \"4\"))\n",
    "except:\n",
    "    pass"
   ]
  },
  {
   "cell_type": "markdown",
   "metadata": {},
   "source": [
    "* 这里具体去实现的功能为一个分词的操作，后面应该是将文末的非字符换成\"\"，前面是？？？"
   ]
  },
  {
   "cell_type": "code",
   "execution_count": 4,
   "metadata": {},
   "outputs": [],
   "source": [
    "def parse_article(line):\n",
    "    try:\n",
    "        article_id, text = unicode(line.rstrip()).split('\\t', 1)\n",
    "        text = re.sub(\"^\\W+|\\W+$\", \"\", text, flags=re.UNICODE)\n",
    "        words = re.split(\"\\W*\\s+\\W*\", text, flags=re.UNICODE)\n",
    "        return words\n",
    "    except ValueError as e:\n",
    "        return []"
   ]
  },
  {
   "cell_type": "markdown",
   "metadata": {},
   "source": [
    "* 这里应该是一个数据集的生成"
   ]
  },
  {
   "cell_type": "markdown",
   "metadata": {},
   "source": [
    "* 这里后面的map表示产生一个新的rdd,具体的生成方式是将这里的文本通过map中的func进行生成"
   ]
  },
  {
   "cell_type": "code",
   "execution_count": 5,
   "metadata": {},
   "outputs": [],
   "source": [
    "wiki = sc.textFile(\"/data/wiki/en_articles_part/articles-part\", 4).map(parse_article)"
   ]
  },
  {
   "cell_type": "code",
   "execution_count": 6,
   "metadata": {},
   "outputs": [
    {
     "name": "stdout",
     "output_type": "stream",
     "text": [
      "Anarchism\n",
      "Anarchism\n",
      "is\n",
      "often\n",
      "defined\n",
      "as\n",
      "a\n",
      "political\n",
      "philosophy\n",
      "which\n",
      "holds\n",
      "the\n",
      "state\n",
      "to\n",
      "be\n",
      "undesirable\n",
      "unnecessary\n",
      "or\n",
      "harmful\n",
      "The\n",
      "following\n",
      "sources\n",
      "cite\n",
      "anarchism\n",
      "as\n",
      "a\n",
      "political\n",
      "philosophy\n",
      "Slevin\n",
      "Carl\n",
      "Anarchism\n",
      "The\n",
      "Concise\n",
      "Oxford\n",
      "Dictionary\n",
      "of\n",
      "Politics\n",
      "Ed\n",
      "Iain\n",
      "McLean\n",
      "and\n",
      "Alistair\n",
      "McMillan\n",
      "Oxford\n",
      "University\n",
      "Press\n",
      "2003\n",
      "However\n",
      "others\n",
      "argue\n"
     ]
    }
   ],
   "source": [
    "result = wiki.take(1)[0]\n",
    "for word in result[:50]:\n",
    "    print word"
   ]
  },
  {
   "cell_type": "code",
   "execution_count": 7,
   "metadata": {},
   "outputs": [],
   "source": [
    "def pairs_starting_from_word(words, first_word='word'):\n",
    "    pairs = []\n",
    "    \n",
    "    for i, word in enumerate(words[:-1]):\n",
    "        if (word == first_word):\n",
    "            pair = '{}_{}'.format(word, words[i+1])\n",
    "            cnt = 1\n",
    "            pairs.append((pair, cnt))\n",
    "        else:\n",
    "            continue\n",
    "    return pairs"
   ]
  },
  {
   "cell_type": "code",
   "execution_count": 27,
   "metadata": {},
   "outputs": [],
   "source": [
    "# lowercase all words\n",
    "wiki_lower = wiki.map(lambda words: [x.lower() for x in words])\n",
    "\n",
    "# find pairs starting from defined word\n",
    "wiki_pairs = wiki_lower.flatMap(lambda x: pairs_starting_from_word(x, 'narodnaya'))\n",
    "\n",
    "# filtering empty elements\n",
    "wiki_pairs = wiki_pairs.filter(lambda x: x != [])\n",
    "\n",
    "# aggregate counters\n",
    "wiki_red = wiki_pairs.reduceByKey(lambda a, b: a + b, numPartitions=16)\n",
    "\n",
    "# sort values by key\n",
    "wiki_red_sorted = wiki_red.sortByKey()"
   ]
  },
  {
   "cell_type": "code",
   "execution_count": 9,
   "metadata": {},
   "outputs": [
    {
     "name": "stdout",
     "output_type": "stream",
     "text": [
      "narodnaya_gazeta\t1\n",
      "narodnaya_volya\t9\n"
     ]
    }
   ],
   "source": [
    "result = wiki_red_sorted.collect()\n",
    "for pair, cnt in result:\n",
    "    print '{}\\t{}'.format(pair, cnt)"
   ]
  },
  {
   "cell_type": "code",
   "execution_count": 17,
   "metadata": {},
   "outputs": [
    {
     "name": "stdout",
     "output_type": "stream",
     "text": [
      "319\n"
     ]
    }
   ],
   "source": [
    "# 获取了停词表\n",
    "with open('/datasets/stop_words_en.txt', 'r') as f:\n",
    "    stop_words = set(f.read().split())\n",
    "\n",
    "print(len(stop_words))"
   ]
  },
  {
   "cell_type": "code",
   "execution_count": 18,
   "metadata": {},
   "outputs": [],
   "source": [
    "def create_bigrams(words):\n",
    "    bigrams = []\n",
    "    for i, word in enumerate(words[:-1]):\n",
    "        pair = u'_'.join((word, words[i+1])).encode('utf-8')\n",
    "        cnt = 1\n",
    "        bigrams.append((pair, cnt))\n",
    "    return bigrams"
   ]
  },
  {
   "cell_type": "code",
   "execution_count": 19,
   "metadata": {},
   "outputs": [],
   "source": [
    "from math import log\n",
    "def calc_npmi(pair, cnt, words_occurrences_dict, total_num_of_words, total_num_of_pairs):\n",
    "    word1, word2 = pair.split('_')\n",
    "    p_a = words_occurrences_dict[word1] / total_num_of_words\n",
    "    p_b = words_occurrences_dict[word2] / total_num_of_words\n",
    "    \n",
    "    pmi_ab = cnt / total_num_of_pairs\n",
    "    pmi_a_b = log(pmi_ab / (p_a * p_b))\n",
    "    \n",
    "    nmpi_a_b = pmi_a_b / -log(pmi_ab)\n",
    "    return (pair, nmpi_a_b)"
   ]
  },
  {
   "cell_type": "code",
   "execution_count": 20,
   "metadata": {},
   "outputs": [],
   "source": [
    "# lowercase all words\n",
    "wiki_lower = wiki.map(lambda words: [x.lower() for x in words])\n",
    "\n",
    "# words not in stop_words_en.txt\n",
    "wiki_filt = wiki_lower.map(lambda words: [x for x in words if x not in stop_words])\n",
    "\n",
    "# create bigrams\n",
    "wiki_bigrams = wiki_filt.flatMap(create_bigrams)\n",
    "\n",
    "# aggregate counters\n",
    "wiki_red = wiki_bigrams.reduceByKey(lambda a, b: a + b)\n",
    "\n",
    "# filter values by counter\n",
    "wiki_red_filt = wiki_red.filter(lambda (pair, cnt): cnt >= 500)"
   ]
  },
  {
   "cell_type": "code",
   "execution_count": 21,
   "metadata": {},
   "outputs": [
    {
     "data": {
      "text/plain": [
       "6971026"
      ]
     },
     "execution_count": 21,
     "metadata": {},
     "output_type": "execute_result"
    }
   ],
   "source": [
    "# total number of words\n",
    "tot_num_words = wiki_filt.map(lambda words: len(words))\n",
    "tot_num_words = tot_num_words.reduce(lambda a, b: a + b)\n",
    "tot_num_words"
   ]
  },
  {
   "cell_type": "code",
   "execution_count": 22,
   "metadata": {},
   "outputs": [
    {
     "data": {
      "text/plain": [
       "6966926"
      ]
     },
     "execution_count": 22,
     "metadata": {},
     "output_type": "execute_result"
    }
   ],
   "source": [
    "# total number of words pairs\n",
    "tot_num_pairs = wiki_filt.map(lambda words: len(words) - 1)\n",
    "tot_num_pairs = tot_num_pairs.reduce(lambda a, b: a + b)\n",
    "tot_num_pairs"
   ]
  },
  {
   "cell_type": "code",
   "execution_count": 23,
   "metadata": {},
   "outputs": [],
   "source": [
    "# number of each word occurrences\n",
    "words_occ = wiki_filt.flatMap(lambda words: [(x, 1) for x in words])\n",
    "words_occ = words_occ.reduceByKey(lambda a, b: a + b)\n",
    "words_occ = words_occ.filter(lambda (pair, cnt): cnt >= 500)\n",
    "words_occ = words_occ.collect()\n",
    "\n",
    "words_occ_dict = dict()\n",
    "for item, cnt in words_occ:\n",
    "    words_occ_dict[item] = cnt"
   ]
  },
  {
   "cell_type": "code",
   "execution_count": 24,
   "metadata": {},
   "outputs": [],
   "source": [
    "pairs_npmi = wiki_red_filt\\\n",
    "    .map(lambda (pair, cnt): calc_npmi(pair, cnt, words_occ_dict, tot_num_words, tot_num_pairs))\\\n",
    "    .map(lambda (a, b): (b, a))\\\n",
    "    .sortByKey(False)\\\n",
    "    .map(lambda (a, b): (b, a))\\\n",
    "    .take(39)"
   ]
  },
  {
   "cell_type": "code",
   "execution_count": 25,
   "metadata": {},
   "outputs": [
    {
     "name": "stdout",
     "output_type": "stream",
     "text": [
      "39\n"
     ]
    }
   ],
   "source": [
    "print(len(pairs_npmi))"
   ]
  },
  {
   "cell_type": "code",
   "execution_count": 26,
   "metadata": {},
   "outputs": [
    {
     "name": "stdout",
     "output_type": "stream",
     "text": [
      "los_angeles\n",
      "external_links\n",
      "united_states\n",
      "prime_minister\n",
      "san_francisco\n",
      "et_al\n",
      "new_york\n",
      "supreme_court\n",
      "19th_century\n",
      "20th_century\n",
      "references_external\n",
      "soviet_union\n",
      "air_force\n",
      "baseball_player\n",
      "university_press\n",
      "roman_catholic\n",
      "united_kingdom\n",
      "references_reading\n",
      "notes_references\n",
      "award_best\n",
      "north_america\n",
      "new_zealand\n",
      "civil_war\n",
      "catholic_church\n",
      "world_war\n",
      "war_ii\n",
      "south_africa\n",
      "took_place\n",
      "roman_empire\n",
      "united_nations\n",
      "american_singer-songwriter\n",
      "high_school\n",
      "american_actor\n",
      "american_actress\n",
      "american_baseball\n",
      "york_city\n",
      "american_football\n",
      "years_later\n",
      "north_american\n"
     ]
    }
   ],
   "source": [
    "for pair, npmi in pairs_npmi:\n",
    "    print pair"
   ]
  },
  {
   "cell_type": "code",
   "execution_count": null,
   "metadata": {},
   "outputs": [],
   "source": []
  }
 ],
 "metadata": {
  "kernelspec": {
   "display_name": "Python 2",
   "language": "python",
   "name": "python2"
  },
  "language_info": {
   "codemirror_mode": {
    "name": "ipython",
    "version": 2
   },
   "file_extension": ".py",
   "mimetype": "text/x-python",
   "name": "python",
   "nbconvert_exporter": "python",
   "pygments_lexer": "ipython2",
   "version": "2.7.12"
  }
 },
 "nbformat": 4,
 "nbformat_minor": 2
}
